{
 "cells": [
  {
   "cell_type": "code",
   "execution_count": 1,
   "metadata": {
    "colab": {
     "base_uri": "https://localhost:8080/"
    },
    "id": "3r_irUgSHt7l",
    "outputId": "c639294b-1001-45e5-d00c-480a0939f06b"
   },
   "outputs": [
    {
     "name": "stdout",
     "output_type": "stream",
     "text": [
      "Thu Oct 20 07:28:12 2022       \n",
      "+-----------------------------------------------------------------------------+\n",
      "| NVIDIA-SMI 460.32.03    Driver Version: 460.32.03    CUDA Version: 11.2     |\n",
      "|-------------------------------+----------------------+----------------------+\n",
      "| GPU  Name        Persistence-M| Bus-Id        Disp.A | Volatile Uncorr. ECC |\n",
      "| Fan  Temp  Perf  Pwr:Usage/Cap|         Memory-Usage | GPU-Util  Compute M. |\n",
      "|                               |                      |               MIG M. |\n",
      "|===============================+======================+======================|\n",
      "|   0  Tesla T4            Off  | 00000000:00:04.0 Off |                    0 |\n",
      "| N/A   68C    P8    13W /  70W |      0MiB / 15109MiB |      0%      Default |\n",
      "|                               |                      |                  N/A |\n",
      "+-------------------------------+----------------------+----------------------+\n",
      "                                                                               \n",
      "+-----------------------------------------------------------------------------+\n",
      "| Processes:                                                                  |\n",
      "|  GPU   GI   CI        PID   Type   Process name                  GPU Memory |\n",
      "|        ID   ID                                                   Usage      |\n",
      "|=============================================================================|\n",
      "|  No running processes found                                                 |\n",
      "+-----------------------------------------------------------------------------+\n"
     ]
    }
   ],
   "source": [
    "!nvidia-smi"
   ]
  },
  {
   "cell_type": "code",
   "execution_count": 2,
   "metadata": {
    "colab": {
     "base_uri": "https://localhost:8080/"
    },
    "id": "bSFxcspwGH_X",
    "outputId": "f046d1b1-5c48-4476-9fc0-d4ab67a015ef"
   },
   "outputs": [
    {
     "name": "stdout",
     "output_type": "stream",
     "text": [
      "/content/drive/MyDrive/CatsvDogs\n"
     ]
    }
   ],
   "source": [
    "%cd drive/MyDrive/CatsvDogs/"
   ]
  },
  {
   "cell_type": "code",
   "execution_count": 3,
   "metadata": {
    "id": "3dwA2IlcGr3w"
   },
   "outputs": [],
   "source": [
    "import os\n",
    "import tensorflow as tf\n",
    "from tensorflow import keras\n",
    "from tensorflow.keras import layers"
   ]
  },
  {
   "cell_type": "code",
   "execution_count": 4,
   "metadata": {
    "id": "exhEd9L2G4M1"
   },
   "outputs": [],
   "source": [
    "image_size = (244, 244)\n",
    "batch_size = 16"
   ]
  },
  {
   "cell_type": "code",
   "execution_count": 5,
   "metadata": {
    "colab": {
     "base_uri": "https://localhost:8080/"
    },
    "id": "N9w0hsVBGuX9",
    "outputId": "c5cd9364-a91d-493b-8a20-5125d80eb382"
   },
   "outputs": [
    {
     "name": "stdout",
     "output_type": "stream",
     "text": [
      "Found 4000 files belonging to 2 classes.\n",
      "Using 3200 files for training.\n"
     ]
    }
   ],
   "source": [
    "train_ds = tf.keras.preprocessing.image_dataset_from_directory(\n",
    "    \"petimages\",\n",
    "    validation_split=0.2,\n",
    "    labels='inferred',\n",
    "    label_mode='binary',\n",
    "    subset=\"training\",\n",
    "    seed=1337,\n",
    "    image_size=image_size,\n",
    "    batch_size=batch_size,\n",
    "    shuffle = True,\n",
    ")"
   ]
  },
  {
   "cell_type": "code",
   "execution_count": 6,
   "metadata": {
    "colab": {
     "base_uri": "https://localhost:8080/"
    },
    "id": "oHQrykLzG5UW",
    "outputId": "19f5e8e5-94a8-4754-97e0-a3e69b84b468"
   },
   "outputs": [
    {
     "name": "stdout",
     "output_type": "stream",
     "text": [
      "Found 4000 files belonging to 2 classes.\n",
      "Using 800 files for validation.\n"
     ]
    }
   ],
   "source": [
    "val_ds = tf.keras.preprocessing.image_dataset_from_directory(\n",
    "    \"petimages\",\n",
    "    validation_split=0.2,\n",
    "    subset=\"validation\",\n",
    "    labels='inferred',\n",
    "    label_mode='binary',\n",
    "    seed=1337,\n",
    "    image_size=image_size,\n",
    "    batch_size=batch_size,\n",
    "    shuffle = True,\n",
    ")"
   ]
  },
  {
   "cell_type": "code",
   "execution_count": 7,
   "metadata": {
    "id": "lr4HHoXcHTSi"
   },
   "outputs": [],
   "source": [
    "# data_augmentation = keras.Sequential(\n",
    "#     [\n",
    "#         layers.RandomFlip(\"horizontal\"),\n",
    "#         layers.RandomRotation(0.1),\n",
    "#     ]\n",
    "# )"
   ]
  },
  {
   "cell_type": "code",
   "execution_count": 7,
   "metadata": {
    "id": "uLRTwDqYHZZx"
   },
   "outputs": [],
   "source": [
    "model = tf.keras.models.Sequential([\n",
    "    tf.keras.layers.Rescaling(1/255.),\n",
    "    tf.keras.layers.Conv2D(128, (3, 3), activation='relu'),\n",
    "    tf.keras.layers.MaxPooling2D(2, 2),\n",
    "    tf.keras.layers.Dropout(0.2),\n",
    "    tf.keras.layers.Conv2D(64, (3, 3), activation='relu'),\n",
    "    tf.keras.layers.MaxPooling2D(2, 2),\n",
    "    tf.keras.layers.Dropout(0.2),\n",
    "    tf.keras.layers.Conv2D(32, (3, 3), activation='relu'),\n",
    "    tf.keras.layers.MaxPooling2D(2, 2),\n",
    "    tf.keras.layers.Dropout(0.2),\n",
    "    tf.keras.layers.Flatten(),\n",
    "    tf.keras.layers.Dense(512, activation='relu'),\n",
    "    tf.keras.layers.Dense(1, activation='sigmoid')\n",
    "])"
   ]
  },
  {
   "cell_type": "code",
   "execution_count": 8,
   "metadata": {
    "id": "sFR2Z_I5HmO1"
   },
   "outputs": [],
   "source": [
    "metrics=[ \n",
    "    #tf.keras.metrics.BinaryAccuracy(name=\"accuracy\", dtype=None, threshold=0.4),\n",
    "    \"accuracy\",\n",
    "    tf.keras.metrics.Precision(name=\"precision\"),\n",
    "    tf.keras.metrics.Recall(name=\"recall\"),\n",
    "    tf.keras.metrics.TrueNegatives(name=\"tn\"),\n",
    "    tf.keras.metrics.TruePositives(name=\"tp\"),\n",
    "    tf.keras.metrics.FalseNegatives(name=\"fn\"),\n",
    "    tf.keras.metrics.FalsePositives(name=\"fp\")\n",
    "]"
   ]
  },
  {
   "cell_type": "code",
   "execution_count": 14,
   "metadata": {
    "id": "imeqSyHrJmTw"
   },
   "outputs": [],
   "source": [
    "# model.build(INPUT_SHAPE)"
   ]
  },
  {
   "cell_type": "code",
   "execution_count": 9,
   "metadata": {
    "id": "SNSSyh99HmMt"
   },
   "outputs": [],
   "source": [
    "model.compile(\n",
    "    optimizer=tf.keras.optimizers.RMSprop(learning_rate=0.0001),\n",
    "    loss=\"binary_crossentropy\",\n",
    "    metrics=metrics\n",
    ")"
   ]
  },
  {
   "cell_type": "code",
   "execution_count": 10,
   "metadata": {
    "colab": {
     "base_uri": "https://localhost:8080/"
    },
    "id": "uFZU8ajiIpsn",
    "outputId": "e633234c-7b52-4283-b355-ad55e589c53a"
   },
   "outputs": [
    {
     "name": "stdout",
     "output_type": "stream",
     "text": [
      "Thu Oct 20 07:28:58 2022       \n",
      "+-----------------------------------------------------------------------------+\n",
      "| NVIDIA-SMI 460.32.03    Driver Version: 460.32.03    CUDA Version: 11.2     |\n",
      "|-------------------------------+----------------------+----------------------+\n",
      "| GPU  Name        Persistence-M| Bus-Id        Disp.A | Volatile Uncorr. ECC |\n",
      "| Fan  Temp  Perf  Pwr:Usage/Cap|         Memory-Usage | GPU-Util  Compute M. |\n",
      "|                               |                      |               MIG M. |\n",
      "|===============================+======================+======================|\n",
      "|   0  Tesla T4            Off  | 00000000:00:04.0 Off |                    0 |\n",
      "| N/A   61C    P0    30W /  70W |    314MiB / 15109MiB |      0%      Default |\n",
      "|                               |                      |                  N/A |\n",
      "+-------------------------------+----------------------+----------------------+\n",
      "                                                                               \n",
      "+-----------------------------------------------------------------------------+\n",
      "| Processes:                                                                  |\n",
      "|  GPU   GI   CI        PID   Type   Process name                  GPU Memory |\n",
      "|        ID   ID                                                   Usage      |\n",
      "|=============================================================================|\n",
      "+-----------------------------------------------------------------------------+\n"
     ]
    }
   ],
   "source": [
    "!nvidia-smi"
   ]
  },
  {
   "cell_type": "code",
   "execution_count": 12,
   "metadata": {
    "id": "WcWuEbaGNcgs"
   },
   "outputs": [],
   "source": [
    "model.build((None, 244, 244, 3))"
   ]
  },
  {
   "cell_type": "code",
   "execution_count": 13,
   "metadata": {
    "colab": {
     "base_uri": "https://localhost:8080/"
    },
    "id": "xeHj6HalHmKS",
    "outputId": "7c5a08c3-06c3-4df8-f9f3-68002465d674"
   },
   "outputs": [
    {
     "name": "stdout",
     "output_type": "stream",
     "text": [
      "Model: \"sequential\"\n",
      "_________________________________________________________________\n",
      " Layer (type)                Output Shape              Param #   \n",
      "=================================================================\n",
      " rescaling (Rescaling)       (None, 244, 244, 3)       0         \n",
      "                                                                 \n",
      " conv2d (Conv2D)             (None, 242, 242, 128)     3584      \n",
      "                                                                 \n",
      " max_pooling2d (MaxPooling2D  (None, 121, 121, 128)    0         \n",
      " )                                                               \n",
      "                                                                 \n",
      " dropout (Dropout)           (None, 121, 121, 128)     0         \n",
      "                                                                 \n",
      " conv2d_1 (Conv2D)           (None, 119, 119, 64)      73792     \n",
      "                                                                 \n",
      " max_pooling2d_1 (MaxPooling  (None, 59, 59, 64)       0         \n",
      " 2D)                                                             \n",
      "                                                                 \n",
      " dropout_1 (Dropout)         (None, 59, 59, 64)        0         \n",
      "                                                                 \n",
      " conv2d_2 (Conv2D)           (None, 57, 57, 32)        18464     \n",
      "                                                                 \n",
      " max_pooling2d_2 (MaxPooling  (None, 28, 28, 32)       0         \n",
      " 2D)                                                             \n",
      "                                                                 \n",
      " dropout_2 (Dropout)         (None, 28, 28, 32)        0         \n",
      "                                                                 \n",
      " flatten (Flatten)           (None, 25088)             0         \n",
      "                                                                 \n",
      " dense (Dense)               (None, 512)               12845568  \n",
      "                                                                 \n",
      " dense_1 (Dense)             (None, 1)                 513       \n",
      "                                                                 \n",
      "=================================================================\n",
      "Total params: 12,941,921\n",
      "Trainable params: 12,941,921\n",
      "Non-trainable params: 0\n",
      "_________________________________________________________________\n"
     ]
    }
   ],
   "source": [
    "model.summary()"
   ]
  },
  {
   "cell_type": "code",
   "execution_count": 14,
   "metadata": {
    "colab": {
     "base_uri": "https://localhost:8080/"
    },
    "id": "rH3dOtbXHrlN",
    "outputId": "685773fb-fafd-4c80-cd68-39c778ca90d7"
   },
   "outputs": [
    {
     "name": "stdout",
     "output_type": "stream",
     "text": [
      "Epoch 1/10\n",
      "200/200 [==============================] - 27s 105ms/step - loss: 0.7108 - accuracy: 0.5100 - precision: 0.5096 - recall: 0.5630 - tn: 730.0000 - tp: 902.0000 - fn: 700.0000 - fp: 868.0000 - val_loss: 0.6821 - val_accuracy: 0.6413 - val_precision: 0.6034 - val_recall: 0.8141 - val_tn: 189.0000 - val_tp: 324.0000 - val_fn: 74.0000 - val_fp: 213.0000\n",
      "Epoch 2/10\n",
      "200/200 [==============================] - 21s 102ms/step - loss: 0.6596 - accuracy: 0.6044 - precision: 0.5950 - recall: 0.6567 - tn: 882.0000 - tp: 1052.0000 - fn: 550.0000 - fp: 716.0000 - val_loss: 0.6577 - val_accuracy: 0.6925 - val_precision: 0.6784 - val_recall: 0.7261 - val_tn: 265.0000 - val_tp: 289.0000 - val_fn: 109.0000 - val_fp: 137.0000\n",
      "Epoch 3/10\n",
      "200/200 [==============================] - 21s 102ms/step - loss: 0.6169 - accuracy: 0.6603 - precision: 0.6562 - recall: 0.6754 - tn: 1031.0000 - tp: 1082.0000 - fn: 520.0000 - fp: 567.0000 - val_loss: 0.6446 - val_accuracy: 0.7050 - val_precision: 0.6808 - val_recall: 0.7663 - val_tn: 259.0000 - val_tp: 305.0000 - val_fn: 93.0000 - val_fp: 143.0000\n",
      "Epoch 4/10\n",
      "200/200 [==============================] - 21s 102ms/step - loss: 0.5825 - accuracy: 0.6894 - precision: 0.6884 - recall: 0.6935 - tn: 1095.0000 - tp: 1111.0000 - fn: 491.0000 - fp: 503.0000 - val_loss: 0.6149 - val_accuracy: 0.6875 - val_precision: 0.6321 - val_recall: 0.8894 - val_tn: 196.0000 - val_tp: 354.0000 - val_fn: 44.0000 - val_fp: 206.0000\n",
      "Epoch 5/10\n",
      "200/200 [==============================] - 21s 103ms/step - loss: 0.5464 - accuracy: 0.7225 - precision: 0.7204 - recall: 0.7285 - tn: 1145.0000 - tp: 1167.0000 - fn: 435.0000 - fp: 453.0000 - val_loss: 0.6001 - val_accuracy: 0.7100 - val_precision: 0.6828 - val_recall: 0.7789 - val_tn: 258.0000 - val_tp: 310.0000 - val_fn: 88.0000 - val_fp: 144.0000\n",
      "Epoch 6/10\n",
      "200/200 [==============================] - 21s 103ms/step - loss: 0.5082 - accuracy: 0.7484 - precision: 0.7521 - recall: 0.7422 - tn: 1206.0000 - tp: 1189.0000 - fn: 413.0000 - fp: 392.0000 - val_loss: 0.5746 - val_accuracy: 0.7088 - val_precision: 0.6660 - val_recall: 0.8317 - val_tn: 236.0000 - val_tp: 331.0000 - val_fn: 67.0000 - val_fp: 166.0000\n",
      "Epoch 7/10\n",
      "200/200 [==============================] - 21s 103ms/step - loss: 0.4726 - accuracy: 0.7747 - precision: 0.7769 - recall: 0.7715 - tn: 1243.0000 - tp: 1236.0000 - fn: 366.0000 - fp: 355.0000 - val_loss: 0.5525 - val_accuracy: 0.7287 - val_precision: 0.7280 - val_recall: 0.7261 - val_tn: 294.0000 - val_tp: 289.0000 - val_fn: 109.0000 - val_fp: 108.0000\n",
      "Epoch 8/10\n",
      "200/200 [==============================] - 21s 103ms/step - loss: 0.4453 - accuracy: 0.7944 - precision: 0.7972 - recall: 0.7903 - tn: 1276.0000 - tp: 1266.0000 - fn: 336.0000 - fp: 322.0000 - val_loss: 0.5418 - val_accuracy: 0.7375 - val_precision: 0.7282 - val_recall: 0.7538 - val_tn: 290.0000 - val_tp: 300.0000 - val_fn: 98.0000 - val_fp: 112.0000\n",
      "Epoch 9/10\n",
      "200/200 [==============================] - 21s 103ms/step - loss: 0.4054 - accuracy: 0.8112 - precision: 0.8111 - recall: 0.8121 - tn: 1295.0000 - tp: 1301.0000 - fn: 301.0000 - fp: 303.0000 - val_loss: 0.5379 - val_accuracy: 0.7362 - val_precision: 0.7179 - val_recall: 0.7739 - val_tn: 281.0000 - val_tp: 308.0000 - val_fn: 90.0000 - val_fp: 121.0000\n",
      "Epoch 10/10\n",
      "200/200 [==============================] - 21s 103ms/step - loss: 0.3743 - accuracy: 0.8278 - precision: 0.8282 - recall: 0.8277 - tn: 1323.0000 - tp: 1326.0000 - fn: 276.0000 - fp: 275.0000 - val_loss: 0.5341 - val_accuracy: 0.7362 - val_precision: 0.7634 - val_recall: 0.6809 - val_tn: 318.0000 - val_tp: 271.0000 - val_fn: 127.0000 - val_fp: 84.0000\n"
     ]
    },
    {
     "data": {
      "text/plain": [
       "<keras.callbacks.History at 0x7f6e44510950>"
      ]
     },
     "execution_count": 14,
     "metadata": {},
     "output_type": "execute_result"
    }
   ],
   "source": [
    "model.fit(\n",
    "    train_ds,\n",
    "    #steps_per_epoch=15,\n",
    "    epochs = 10,\n",
    "    validation_data=val_ds,\n",
    ")"
   ]
  },
  {
   "cell_type": "code",
   "execution_count": 15,
   "metadata": {
    "colab": {
     "base_uri": "https://localhost:8080/"
    },
    "id": "Zk4o24raHrjE",
    "outputId": "cf2ad92e-0fd3-4a3c-e402-4627f080a1d8"
   },
   "outputs": [
    {
     "name": "stdout",
     "output_type": "stream",
     "text": [
      "50/50 [==============================] - 3s 44ms/step - loss: 0.5341 - accuracy: 0.7362 - precision: 0.7634 - recall: 0.6809 - tn: 318.0000 - tp: 271.0000 - fn: 127.0000 - fp: 84.0000\n",
      "loss -  0.5341211557388306\n",
      "accuracy -  0.7362499833106995\n",
      "precision -  0.7633802890777588\n",
      "recall -  0.6809045076370239\n",
      "TN -  318.0\n",
      "TP -  271.0\n",
      "FN -  127.0\n",
      "FP -  84.0\n"
     ]
    }
   ],
   "source": [
    "loss, accuracy, precision, recall, tn, tp, fn, fp = model.evaluate(val_ds, verbose=1,batch_size=16)\n",
    "print(\"loss - \", loss)\n",
    "print(\"accuracy - \", accuracy)\n",
    "print(\"precision - \", precision)\n",
    "print(\"recall - \", recall)\n",
    "print(\"TN - \", tn)\n",
    "print(\"TP - \", tp)\n",
    "print(\"FN - \", fn)\n",
    "print(\"FP - \", fp)"
   ]
  },
  {
   "cell_type": "code",
   "execution_count": null,
   "metadata": {
    "id": "D7-6_hZcHrgu"
   },
   "outputs": [],
   "source": []
  }
 ],
 "metadata": {
  "accelerator": "GPU",
  "colab": {
   "collapsed_sections": [],
   "provenance": []
  },
  "kernelspec": {
   "display_name": "Python 3 (ipykernel)",
   "language": "python",
   "name": "python3"
  },
  "language_info": {
   "codemirror_mode": {
    "name": "ipython",
    "version": 3
   },
   "file_extension": ".py",
   "mimetype": "text/x-python",
   "name": "python",
   "nbconvert_exporter": "python",
   "pygments_lexer": "ipython3",
   "version": "3.9.5"
  }
 },
 "nbformat": 4,
 "nbformat_minor": 4
}
